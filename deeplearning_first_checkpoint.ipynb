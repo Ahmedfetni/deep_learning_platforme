{
 "cells": [
  {
   "attachments": {},
   "cell_type": "markdown",
   "metadata": {},
   "source": [
    "In this assignment you will have to take the following steps:\n",
    "\n",
    "    Import your dataset and perform initial analysis and visualization\n",
    "    Clean the data\n",
    "    Build a  deep learning network to predict the marketing campaign outcome (\"deposit\" either Yes or No)"
   ]
  },
  {
   "cell_type": "code",
   "execution_count": null,
   "metadata": {},
   "outputs": [],
   "source": []
  }
 ],
 "metadata": {
  "language_info": {
   "name": "python"
  },
  "orig_nbformat": 4
 },
 "nbformat": 4,
 "nbformat_minor": 2
}
